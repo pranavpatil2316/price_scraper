{
  "cells": [
    {
      "cell_type": "code",
      "source": [
        "!pip install requests beautifulsoup4 pandas matplotlib"
      ],
      "metadata": {
        "colab": {
          "base_uri": "https://localhost:8080/"
        },
        "id": "CTzww6PkO96I",
        "outputId": "438d04b7-49ec-4b43-a106-31f72731957d"
      },
      "execution_count": 1,
      "outputs": [
        {
          "output_type": "stream",
          "name": "stdout",
          "text": [
            "Requirement already satisfied: requests in /usr/local/lib/python3.12/dist-packages (2.32.4)\n",
            "Requirement already satisfied: beautifulsoup4 in /usr/local/lib/python3.12/dist-packages (4.13.4)\n",
            "Requirement already satisfied: pandas in /usr/local/lib/python3.12/dist-packages (2.2.2)\n",
            "Requirement already satisfied: matplotlib in /usr/local/lib/python3.12/dist-packages (3.10.0)\n",
            "Requirement already satisfied: charset_normalizer<4,>=2 in /usr/local/lib/python3.12/dist-packages (from requests) (3.4.3)\n",
            "Requirement already satisfied: idna<4,>=2.5 in /usr/local/lib/python3.12/dist-packages (from requests) (3.10)\n",
            "Requirement already satisfied: urllib3<3,>=1.21.1 in /usr/local/lib/python3.12/dist-packages (from requests) (2.5.0)\n",
            "Requirement already satisfied: certifi>=2017.4.17 in /usr/local/lib/python3.12/dist-packages (from requests) (2025.8.3)\n",
            "Requirement already satisfied: soupsieve>1.2 in /usr/local/lib/python3.12/dist-packages (from beautifulsoup4) (2.7)\n",
            "Requirement already satisfied: typing-extensions>=4.0.0 in /usr/local/lib/python3.12/dist-packages (from beautifulsoup4) (4.14.1)\n",
            "Requirement already satisfied: numpy>=1.26.0 in /usr/local/lib/python3.12/dist-packages (from pandas) (2.0.2)\n",
            "Requirement already satisfied: python-dateutil>=2.8.2 in /usr/local/lib/python3.12/dist-packages (from pandas) (2.9.0.post0)\n",
            "Requirement already satisfied: pytz>=2020.1 in /usr/local/lib/python3.12/dist-packages (from pandas) (2025.2)\n",
            "Requirement already satisfied: tzdata>=2022.7 in /usr/local/lib/python3.12/dist-packages (from pandas) (2025.2)\n",
            "Requirement already satisfied: contourpy>=1.0.1 in /usr/local/lib/python3.12/dist-packages (from matplotlib) (1.3.3)\n",
            "Requirement already satisfied: cycler>=0.10 in /usr/local/lib/python3.12/dist-packages (from matplotlib) (0.12.1)\n",
            "Requirement already satisfied: fonttools>=4.22.0 in /usr/local/lib/python3.12/dist-packages (from matplotlib) (4.59.1)\n",
            "Requirement already satisfied: kiwisolver>=1.3.1 in /usr/local/lib/python3.12/dist-packages (from matplotlib) (1.4.9)\n",
            "Requirement already satisfied: packaging>=20.0 in /usr/local/lib/python3.12/dist-packages (from matplotlib) (25.0)\n",
            "Requirement already satisfied: pillow>=8 in /usr/local/lib/python3.12/dist-packages (from matplotlib) (11.3.0)\n",
            "Requirement already satisfied: pyparsing>=2.3.1 in /usr/local/lib/python3.12/dist-packages (from matplotlib) (3.2.3)\n",
            "Requirement already satisfied: six>=1.5 in /usr/local/lib/python3.12/dist-packages (from python-dateutil>=2.8.2->pandas) (1.17.0)\n"
          ]
        }
      ]
    },
    {
      "cell_type": "code",
      "execution_count": 7,
      "metadata": {
        "id": "ErxJFV2t71ew",
        "colab": {
          "base_uri": "https://localhost:8080/",
          "height": 643
        },
        "outputId": "38c9f1c4-1905-474d-82dd-eec79a58eebe"
      },
      "outputs": [
        {
          "output_type": "stream",
          "name": "stdout",
          "text": [
            "Sample Data:\n",
            "                            Product Name Price (£) Availability\n",
            "0                   A Light in the Attic   Â£51.77     In stock\n",
            "1                     Tipping the Velvet   Â£53.74     In stock\n",
            "2                             Soumission   Â£50.10     In stock\n",
            "3                          Sharp Objects   Â£47.82     In stock\n",
            "4  Sapiens: A Brief History of Humankind   Â£54.23     In stock\n",
            "\n",
            "Data saved as 'clean_books_data.csv'\n"
          ]
        },
        {
          "output_type": "display_data",
          "data": {
            "text/plain": [
              "<Figure size 800x500 with 1 Axes>"
            ],
            "image/png": "[encoded data removed]"
          },
          "metadata": {}
        }
      ],
      "source": [
        "# ===============================\n",
        "# Step 1: Install Required Libraries\n",
        "# ===============================\n",
        "!pip install requests beautifulsoup4 pandas matplotlib\n",
        "# ===============================\n",
        "# Step 2: Import Libraries\n",
        "# ===============================\n",
        "import requests\n",
        "from bs4 import BeautifulSoup\n",
        "import pandas as pd\n",
        "import matplotlib.pyplot as plt\n",
        "\n",
        "# ===============================\n",
        "# Step 3: Define Scraper Function\n",
        "# ===============================\n",
        "def scrape_books(base_url, pages=3):  # scrape first 3 pages (can increase)\n",
        "    books = []\n",
        "    for page in range(1, pages+1):\n",
        "        url = f\"{base_url}catalogue/page-{page}.html\"\n",
        "        response = requests.get(url)\n",
        "        soup = BeautifulSoup(response.text, \"html.parser\")\n",
        "\n",
        "        for item in soup.select(\".product_pod\"):\n",
        "            name = item.h3.a[\"title\"]\n",
        "            price = item.select_one(\".price_color\").text.strip()\n",
        "            availability = item.select_one(\".availability\").text.strip()\n",
        "\n",
        "            books.append({\n",
        "                \"Product Name\": name,\n",
        "                \"Price (£)\": price,\n",
        "                \"Availability\": availability\n",
        "            })\n",
        "    return books\n",
        "\n",
        "# ===============================\n",
        "# Step 4: Scrape Data\n",
        "# ===============================\n",
        "BASE_URL = \"http://books.toscrape.com/\"\n",
        "books_data = scrape_books(BASE_URL, pages=5)  # scrape 5 pages for demo\n",
        "df = pd.DataFrame(books_data)\n",
        "\n",
        "print(\"Sample Data:\")\n",
        "print(df.head())\n",
        "\n",
        "# ===============================\n",
        "# Step 5: Data Cleaning\n",
        "# ===============================\n",
        "df[\"Price (£)\"] = df[\"Price (£)\"].str.replace(\"£\", \"\").astype(float)\n",
        "df.drop_duplicates(inplace=True)\n",
        "df.dropna(inplace=True)\n",
        "\n",
        "# ===============================\n",
        "# Step 6: Save Dataset\n",
        "# ===============================\n",
        "df.to_csv(\"clean_books_data.csv\", index=False)\n",
        "print(\"\\nData saved as 'clean_books_data.csv'\")\n",
        "\n",
        "# ===============================\n",
        "# Step 7: Visualization\n",
        "# ===============================\n",
        "plt.figure(figsize=(8,5))\n",
        "df[\"Price (£)\"].hist(bins=15, edgecolor=\"black\")\n",
        "plt.xlabel(\"Price (£)\")\n",
        "plt.ylabel(\"Number of Books\")\n",
        "plt.title(\"Price Distribution of Books\")\n",
        "plt.show()\n"
      ]
    }
  ],
  "metadata": {
    "colab": {
      "provenance": []
    },
    "kernelspec": {
      "display_name": "Python 3",
      "name": "python3"
    },
    "language_info": {
      "name": "python"
    }
  },
  "nbformat": 4,
  "nbformat_minor": 0
}